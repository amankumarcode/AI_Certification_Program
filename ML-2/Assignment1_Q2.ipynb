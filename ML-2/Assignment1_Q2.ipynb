{
 "cells": [
  {
   "cell_type": "code",
   "execution_count": 56,
   "metadata": {},
   "outputs": [],
   "source": [
    "import numpy as np\n",
    "import pandas as pd\n",
    "import matplotlib.pyplot as plt\n",
    "from sklearn import svm, datasets\n",
    "from sklearn.model_selection import train_test_split\n",
    "import seaborn as sns\n",
    "import time\n",
    "from sklearn.preprocessing import PolynomialFeatures"
   ]
  },
  {
   "cell_type": "code",
   "execution_count": 57,
   "metadata": {},
   "outputs": [],
   "source": [
    "def load_data(): \n",
    "    data_set = datasets.load_breast_cancer()\n",
    "    X=data_set.data\n",
    "    y=data_set.target\n",
    "    return X,y"
   ]
  },
  {
   "cell_type": "code",
   "execution_count": 58,
   "metadata": {},
   "outputs": [],
   "source": [
    "def svm_models(X_train, X_test, y_train, y_test,models):\n",
    "    acc = []\n",
    "    models = list(models)\n",
    "    for i in range(len(models)):\n",
    "        clf = models[i]\n",
    "        clf.fit(X_train, y_train)\n",
    "        acc.append(clf.score(X_train, y_train))\n",
    "    kernel = ['linear','rbf','poly']\n",
    "    plt.bar(kernel, acc, align='center', alpha=0.5) \n",
    "    plt.xticks(kernel)\n",
    "    plt.xlabel('Kernels')\n",
    "    plt.ylabel('Accuracy')\n",
    "    plt.title('svm_models')\n",
    "    plt.show()\n"
   ]
  },
  {
   "cell_type": "code",
   "execution_count": 64,
   "metadata": {},
   "outputs": [],
   "source": [
    "def ploy_kernel_var_deg(X_train, X_test, y_train, y_test):\n",
    "    degrees = []\n",
    "    times = []\n",
    "    for i in range(1,4):\n",
    "        clf = svm.SVC(kernel='poly', degree=i, gamma='auto', C= 0.1)\n",
    "        clf.fit(X_train, y_train)\n",
    "        times.append(time.time())\n",
    "        degrees.append(i)\n",
    "    degrees=np.array(degrees)\n",
    "    plt.bar(degrees, times, align='center', alpha=0.5)\n",
    "    plt.xticks(degrees)\n",
    "    plt.xlabel('Degree of Polynomial')\n",
    "    plt.ylabel('Time Taken')\n",
    "    plt.title('Time taken by different degree polynomial')\n",
    "    plt.show()\n"
   ]
  },
  {
   "cell_type": "code",
   "execution_count": 65,
   "metadata": {},
   "outputs": [],
   "source": [
    "def custom_kernel(k,theta):\n",
    "    def my_kernel(X, Y):\n",
    "        retval = (k*(np.dot(X,Y.T))+ theta)\n",
    "        return retval\n",
    "    return my_kernel"
   ]
  },
  {
   "cell_type": "code",
   "execution_count": 66,
   "metadata": {},
   "outputs": [],
   "source": [
    "def svm_custom_kernel(X_train, X_test, y_train, y_test, model):\n",
    "    clf = model.fit(X_train, y_train)\n",
    "    test_acc = clf.score(X_test, y_test)\n",
    "    print(test_acc)"
   ]
  },
  {
   "cell_type": "code",
   "execution_count": 67,
   "metadata": {},
   "outputs": [],
   "source": [
    "def main():\n",
    "    X,y=load_data()\n",
    "    # Split dataset into training set and test set\n",
    "    X_train, X_test, y_train, y_test = train_test_split(X, y, test_size=0.3,random_state=109) # 70% training and 30% test\n",
    "  \n",
    "    C=1\n",
    "    models = (svm.SVC(kernel='linear', C=C),\n",
    "            svm.SVC(kernel='rbf', gamma='auto', C=C),\n",
    "            svm.SVC(kernel='poly', degree=2, gamma='auto', C=C))\n",
    "\n",
    "    svm_models(X_train, X_test, y_train, y_test,models)\n",
    "    ploy_kernel_var_deg(X_train, X_test, y_train, y_test)\n",
    "\n",
    "    k=0.1\n",
    "    theta=0.1\n",
    "\n",
    "    model=svm.SVC(kernel=custom_kernel(k,theta))\n",
    "    svm_custom_kernel(X_train, X_test, y_train, y_test, model)"
   ]
  },
  {
   "cell_type": "code",
   "execution_count": 68,
   "metadata": {},
   "outputs": [
    {
     "data": {
      "image/png": "[encoded data removed]",
      "text/plain": [
       "<Figure size 432x288 with 1 Axes>"
      ]
     },
     "metadata": {
      "needs_background": "light"
     },
     "output_type": "display_data"
    },
    {
     "data": {
      "image/png": "[encoded data removed]",
      "text/plain": [
       "<Figure size 432x288 with 1 Axes>"
      ]
     },
     "metadata": {
      "needs_background": "light"
     },
     "output_type": "display_data"
    },
    {
     "name": "stdout",
     "output_type": "stream",
     "text": [
      "0.9707602339181286\n"
     ]
    }
   ],
   "source": [
    "if __name__=='__main__':\n",
    "    main()\n"
   ]
  }
 ],
 "metadata": {
  "kernelspec": {
   "display_name": "Python 3",
   "language": "python",
   "name": "python3"
  },
  "language_info": {
   "codemirror_mode": {
    "name": "ipython",
    "version": 3
   },
   "file_extension": ".py",
   "mimetype": "text/x-python",
   "name": "python",
   "nbconvert_exporter": "python",
   "pygments_lexer": "ipython3",
   "version": "3.7.3"
  }
 },
 "nbformat": 4,
 "nbformat_minor": 2
}
