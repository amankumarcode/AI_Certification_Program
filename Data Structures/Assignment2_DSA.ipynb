{
 "cells": [
  {
   "cell_type": "code",
   "execution_count": 18,
   "metadata": {},
   "outputs": [],
   "source": [
    "#THIS FUNCTION CONVERTS THE ARGUMENT TO A MIN HEAP AND RETURNS THE MIN VALUE(h[0]) WHICH IN THIS CASE IS NEXT FINISHING TIME\n",
    "def min_heap(h):\n",
    "    n = len(h)\n",
    "    while(n>1):\n",
    "        for i in range(n//2):\n",
    "            if 2*i+2 <= n-1:\n",
    "                if (h[i] > min(h[2*i+1],h[2*i+2])):\n",
    "                    k = min(h[2*i+1],h[2*i+2])\n",
    "                    z = h[i]\n",
    "                    h[i] = k\n",
    "                    if (h[2*i+1] < h[2*i + 2]):\n",
    "                        h[2*i+1] = z\n",
    "                    else:\n",
    "                        h[2*i+2] = z\n",
    "            else:\n",
    "                if h[i] > h[2*i+1]:\n",
    "                    h[i],h[2*i+1] = h[2*i+1],h[i]\n",
    "        n=n//2\n",
    "    h = h[::-1]\n",
    "    x = h.pop()\n",
    "    h = h[::-1]\n",
    "    return x"
   ]
  },
  {
   "cell_type": "code",
   "execution_count": 19,
   "metadata": {},
   "outputs": [],
   "source": [
    "# THIS FUNCTION COMPARES THE MIN HEAP FINISH TIME WITH FINISH TIME IN GIVEN SCHEDULED LIST \n",
    "# LIST AND TAKES OUT THE EARLIEST FINISH TIME IN A  SEPERATE LIST\n",
    "def compare(comp): \n",
    "    for i in comp:\n",
    "        k = i\n",
    "        j = i[0]\n",
    "        i = i[1]  \n",
    "        if m == i:\n",
    "            store.append(k)\n",
    "            return \n",
    "    if store == []: \n",
    "        print(\"No earliest finish time\")\n",
    "        return\n",
    "    "
   ]
  },
  {
   "cell_type": "code",
   "execution_count": 20,
   "metadata": {},
   "outputs": [],
   "source": [
    "# THIS FUNCTION GETS THE UPDATED SCHEDULED LIST AFTER REMOVING EARLIEST FINISH TIME, FOR THE NEXT ITERATION\n",
    "def new_sch():\n",
    "    new_sch = list()\n",
    "    for i in sch:\n",
    "        h = i\n",
    "        i = i[0]\n",
    "        if i>= m:\n",
    "            new_sch.append(h)   \n",
    "    return(new_sch) "
   ]
  },
  {
   "cell_type": "code",
   "execution_count": 21,
   "metadata": {},
   "outputs": [],
   "source": [
    "# THIS FUNCTION PRINTS THE FINAL OUTPUT IN TUPLE ORDERED PAIR FORM\n",
    "def print_output(e):\n",
    "    for i in e:\n",
    "        u = i[0]\n",
    "        v = i[1]\n",
    "        print((u,v))\n",
    "    return"
   ]
  },
  {
   "cell_type": "code",
   "execution_count": 22,
   "metadata": {},
   "outputs": [],
   "source": [
    "# THIS FUNCTION GETS UPDATED START TIME LIST AND FINISH TIME LIST AFTER EVERY ITERATION\n",
    "def break_list(p):\n",
    "    a = list()\n",
    "    b = list()\n",
    "    for i in p:\n",
    "        a.append(i[0])\n",
    "        b.append(i[1])\n",
    "    return a,b"
   ]
  },
  {
   "cell_type": "code",
   "execution_count": 23,
   "metadata": {},
   "outputs": [],
   "source": [
    "#THIS FUNCTION CONVERTS LIST ELEMENTS INTO INTEGERS\n",
    "def int_conv(u):\n",
    "    z = list()\n",
    "    for i in u:\n",
    "        i = int(i)\n",
    "        z.append(i)\n",
    "    return z"
   ]
  },
  {
   "cell_type": "markdown",
   "metadata": {},
   "source": [
    "# TEST CASE 1"
   ]
  },
  {
   "cell_type": "code",
   "execution_count": 24,
   "metadata": {},
   "outputs": [],
   "source": [
    "# FOR TEST CASE 1\n",
    "with open(r\"C:\\Users\\Mahe\\Desktop\\jobTiming.txt\") as f:\n",
    "    lines = f.readlines()"
   ]
  },
  {
   "cell_type": "code",
   "execution_count": 25,
   "metadata": {},
   "outputs": [
    {
     "data": {
      "text/plain": [
       "[[2, 8], [1, 9], [3, 14], [2, 15], [3, 6], [4, 9]]"
      ]
     },
     "execution_count": 25,
     "metadata": {},
     "output_type": "execute_result"
    }
   ],
   "source": [
    "# PROCEDURE TO CONVERT THE FILE ELEMENTS INTO WORKABLE ONES\n",
    "store = list()\n",
    "d = list()\n",
    "for i in lines:\n",
    "    i = i.strip('\\n')\n",
    "    d.append(i)\n",
    "lines = d\n",
    "lines = lines[1:]\n",
    "b = list()\n",
    "for i in lines:\n",
    "    a = i.split(',')\n",
    "    b.append(a)\n",
    "s = b[0]\n",
    "f = b[1]\n",
    "f = int_conv(f)\n",
    "s = int_conv(s)\n",
    "sch = list()\n",
    "for i in range(len(s)):\n",
    "    sch.append([s[i],f[i]])\n",
    "sch                         # THIS IS A SCHEDULE LIST CONTAINING ALL CLASSES [START TIME, FINISH TIME]"
   ]
  },
  {
   "cell_type": "code",
   "execution_count": 26,
   "metadata": {},
   "outputs": [
    {
     "name": "stdout",
     "output_type": "stream",
     "text": [
      "(3, 6)\n"
     ]
    }
   ],
   "source": [
    "# THIS IS A WHILE LOOP WHICH RUNS TILL EARLIEST FINISH TIME SCHEDULING IS PRINTED.\n",
    "program = 2\n",
    "while(program > 1):\n",
    "    m = min_heap(f)   # FINDS EARLIEST FINISH TIME THROUGH HEAP.\n",
    "    compare(sch)      # COMPARES WITH SCHEDULE LIST AND TAKES OUT THE EARLIEST FINISH TIME ONE AND STORES IT IN STORE LIST.\n",
    "    sch = new_sch()   # GETS AN UPDATED SCHEDULED LIST WHERE START TIME >= EARLIEST FINISH TIME OF THE ITERATION.\n",
    "    if sch == []:     # CHECKS THE SCHEDULED LIST, IF NO ELEMENT IS PRESENT THEN WE HAVE OBTAINED OUR EARLIEST FINISH TIME\n",
    "        print_output(store)   #SCHEDULE AND WE PRINT THE LIST STORE WHERE THIS SCHEDULE IS STORED.\n",
    "        break\n",
    "    s,f = break_list(sch)  # UPDATED SINGULAR LIST OF START AND FINISH TIME IN THE SCHEDULE"
   ]
  },
  {
   "cell_type": "markdown",
   "metadata": {},
   "source": [
    "# TEST CASE 2"
   ]
  },
  {
   "cell_type": "code",
   "execution_count": 27,
   "metadata": {},
   "outputs": [],
   "source": [
    "# SAME AS TEST CASE 1\n",
    "with open(r\"C:\\Users\\Mahe\\Desktop\\jobTiming1.txt\") as f:\n",
    "    lines = f.readlines()"
   ]
  },
  {
   "cell_type": "code",
   "execution_count": 28,
   "metadata": {},
   "outputs": [
    {
     "data": {
      "text/plain": [
       "[[2, 4], [4, 5], [6, 8], [1, 3], [4, 6]]"
      ]
     },
     "execution_count": 28,
     "metadata": {},
     "output_type": "execute_result"
    }
   ],
   "source": [
    "store = list()\n",
    "d = list()\n",
    "for i in lines:\n",
    "    i = i.strip('\\n')\n",
    "    d.append(i)\n",
    "lines = d\n",
    "lines = lines[1:]\n",
    "b = list()\n",
    "for i in lines:\n",
    "    a = i.split(',')\n",
    "    b.append(a)\n",
    "s = b[0]\n",
    "f = b[1]\n",
    "f = int_conv(f)\n",
    "s = int_conv(s)\n",
    "sch = list()\n",
    "for i in range(len(s)):\n",
    "    sch.append([s[i],f[i]])\n",
    "sch "
   ]
  },
  {
   "cell_type": "code",
   "execution_count": 29,
   "metadata": {},
   "outputs": [
    {
     "name": "stdout",
     "output_type": "stream",
     "text": [
      "(1, 3)\n",
      "(4, 5)\n",
      "(6, 8)\n"
     ]
    }
   ],
   "source": [
    "program = 2\n",
    "while(program > 1):\n",
    "    m = min_heap(f)\n",
    "    compare(sch)\n",
    "    sch = new_sch()\n",
    "    if sch == []:\n",
    "        print_output(store)\n",
    "        break\n",
    "    s,f = break_list(sch)"
   ]
  },
  {
   "cell_type": "markdown",
   "metadata": {},
   "source": [
    "# TEST CASE 3"
   ]
  },
  {
   "cell_type": "code",
   "execution_count": 30,
   "metadata": {},
   "outputs": [],
   "source": [
    "# SAME AS TEST CASE 1\n",
    "with open(r\"C:\\Users\\Mahe\\Desktop\\jobTiming2.txt\") as f:\n",
    "    lines = f.readlines()"
   ]
  },
  {
   "cell_type": "code",
   "execution_count": 31,
   "metadata": {},
   "outputs": [
    {
     "data": {
      "text/plain": [
       "[[2, 4], [4, 5], [6, 8], [1, 3], [1, 6]]"
      ]
     },
     "execution_count": 31,
     "metadata": {},
     "output_type": "execute_result"
    }
   ],
   "source": [
    "store = list()\n",
    "d = list()\n",
    "for i in lines:\n",
    "    i = i.strip('\\n')\n",
    "    d.append(i)\n",
    "lines = d\n",
    "lines = lines[1:]\n",
    "b = list()\n",
    "for i in lines:\n",
    "    a = i.split(',')\n",
    "    b.append(a)\n",
    "s = b[0]\n",
    "f = b[1]\n",
    "f = int_conv(f)\n",
    "s = int_conv(s)\n",
    "sch = list()\n",
    "for i in range(len(s)):\n",
    "    sch.append([s[i],f[i]])\n",
    "sch "
   ]
  },
  {
   "cell_type": "code",
   "execution_count": 32,
   "metadata": {},
   "outputs": [
    {
     "name": "stdout",
     "output_type": "stream",
     "text": [
      "(1, 3)\n",
      "(4, 5)\n",
      "(6, 8)\n"
     ]
    }
   ],
   "source": [
    "program = 2\n",
    "while(program > 1):\n",
    "    m = min_heap(f)\n",
    "    compare(sch)\n",
    "    sch = new_sch()\n",
    "    if sch == []:\n",
    "        print_output(store)\n",
    "        break\n",
    "    s,f = break_list(sch)"
   ]
  }
 ],
 "metadata": {
  "kernelspec": {
   "display_name": "Python 3",
   "language": "python",
   "name": "python3"
  },
  "language_info": {
   "codemirror_mode": {
    "name": "ipython",
    "version": 3
   },
   "file_extension": ".py",
   "mimetype": "text/x-python",
   "name": "python",
   "nbconvert_exporter": "python",
   "pygments_lexer": "ipython3",
   "version": "3.7.3"
  }
 },
 "nbformat": 4,
 "nbformat_minor": 2
}
