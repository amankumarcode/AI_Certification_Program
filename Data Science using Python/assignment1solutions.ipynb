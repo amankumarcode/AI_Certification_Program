{
 "cells": [
  {
   "cell_type": "code",
   "execution_count": 1,
   "metadata": {},
   "outputs": [
    {
     "name": "stdout",
     "output_type": "stream",
     "text": [
      "teenager\n"
     ]
    }
   ],
   "source": [
    "#QUESTION1 SOLUTION\n",
    "\n",
    "age=12\n",
    "if age < 18:\n",
    "    if age < 12:\n",
    "        x='kid'\n",
    "    else:\n",
    "        x='teenager'\n",
    "else:\n",
    "    x= 'adult'\n",
    "\n",
    "print(x)"
   ]
  },
  {
   "cell_type": "code",
   "execution_count": 2,
   "metadata": {},
   "outputs": [
    {
     "name": "stdout",
     "output_type": "stream",
     "text": [
      "1.5 1.5\n"
     ]
    }
   ],
   "source": [
    "#QUESTION2 SOLUTION\n",
    "\n",
    "from math import sqrt\n",
    "a = 4; b = -12; c = 9\n",
    "q_sr = sqrt(b*b - 4*a*c)\n",
    "x1 = (-b + q_sr)/(2*a)\n",
    "x2 = (-b - q_sr)/(2*a)\n",
    "print (x1, x2)"
   ]
  },
  {
   "cell_type": "code",
   "execution_count": 3,
   "metadata": {},
   "outputs": [],
   "source": [
    "#QUESTION3 SOLUTION\n",
    "\n",
    "def rectangletest(a,b,c,d,e,f,g,h):\n",
    "    if (a==c and b==d and e==g and f==h):\n",
    "        print(\"Blue and yellow rectangle overlap each other\")\n",
    "    a,b,c,d,e,f,g,h = abs(a),abs(b),abs(c),abs(d),abs(e),abs(f),abs(g),abs(h)\n",
    "    if ((c-a)>0 and (e-g)>0 and (d-b)>0 and (f-h)>0):\n",
    "        print(\"Blue rectangle enclosed under yellow rectangle\")\n",
    "    else:\n",
    "        print(\"Blue rectangle is not enclosed under yellow rectangle\")"
   ]
  },
  {
   "cell_type": "code",
   "execution_count": 4,
   "metadata": {},
   "outputs": [
    {
     "name": "stdout",
     "output_type": "stream",
     "text": [
      "Blue rectangle enclosed under yellow rectangle\n"
     ]
    }
   ],
   "source": [
    "rectangletest(1.1,1.1,2.2,2.2,4.4,4.4,3.3,3.3)"
   ]
  },
  {
   "cell_type": "code",
   "execution_count": 18,
   "metadata": {},
   "outputs": [],
   "source": [
    "#QUESTION4 SOLUTION\n",
    "\n",
    "def CircleIntersect(a,b,r1,r2):\n",
    "    from math import sqrt\n",
    "    d = sqrt(((a[0]-b[0])**2)+((a[1]-b[1])**2))\n",
    "    if  abs(r1-r2)>= d or d <=r1+r2:\n",
    "        print(\"Circles intersect\")\n",
    "    else:\n",
    "        print(\"Circles do not intersect\")"
   ]
  },
  {
   "cell_type": "code",
   "execution_count": 19,
   "metadata": {},
   "outputs": [
    {
     "name": "stdout",
     "output_type": "stream",
     "text": [
      "Circles do not intersect\n"
     ]
    }
   ],
   "source": [
    "CircleIntersect([0,0],[2,2],1.02,1.732) #(x1,y1) and(x2,y2) is being passed as a list here."
   ]
  },
  {
   "cell_type": "code",
   "execution_count": 20,
   "metadata": {},
   "outputs": [
    {
     "name": "stdout",
     "output_type": "stream",
     "text": [
      "Circles intersect\n"
     ]
    }
   ],
   "source": [
    "CircleIntersect((0,0),(2,2),1.414,1.732) #(x1,y1) and(x2,y2) is being passed as a tuple here."
   ]
  },
  {
   "cell_type": "code",
   "execution_count": null,
   "metadata": {},
   "outputs": [],
   "source": []
  }
 ],
 "metadata": {
  "kernelspec": {
   "display_name": "Python 3",
   "language": "python",
   "name": "python3"
  },
  "language_info": {
   "codemirror_mode": {
    "name": "ipython",
    "version": 3
   },
   "file_extension": ".py",
   "mimetype": "text/x-python",
   "name": "python",
   "nbconvert_exporter": "python",
   "pygments_lexer": "ipython3",
   "version": "3.6.6"
  }
 },
 "nbformat": 4,
 "nbformat_minor": 2
}
