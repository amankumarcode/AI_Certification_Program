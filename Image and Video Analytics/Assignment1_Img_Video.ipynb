{
  "nbformat": 4,
  "nbformat_minor": 0,
  "metadata": {
    "colab": {
      "name": "Assignment1_AI0010.ipynb",
      "version": "0.3.2",
      "provenance": [],
      "collapsed_sections": []
    },
    "kernelspec": {
      "name": "python3",
      "display_name": "Python 3"
    }
  },
  "cells": [
    {
      "cell_type": "code",
      "metadata": {
        "id": "qwnNKlUMAwF1",
        "colab_type": "code",
        "colab": {}
      },
      "source": [
        "import pandas as pd\n",
        "import imutils\n",
        "import cv2\n",
        "import numpy as np\n",
        "from matplotlib import pyplot as plt\n",
        "import json\n",
        "from skimage import color\n",
        "from skimage.feature import hog\n",
        "from skimage import data, exposure"
      ],
      "execution_count": 0,
      "outputs": []
    },
    {
      "cell_type": "code",
      "metadata": {
        "id": "ZZZZXnX3kNQI",
        "colab_type": "code",
        "colab": {}
      },
      "source": [
        "data = pd.read_csv(r'input.csv')"
      ],
      "execution_count": 0,
      "outputs": []
    },
    {
      "cell_type": "code",
      "metadata": {
        "id": "vk1kjBCHkQyS",
        "colab_type": "code",
        "colab": {
          "base_uri": "https://localhost:8080/",
          "height": 204
        },
        "outputId": "cc421368-7f59-466c-c466-63be834b5692"
      },
      "source": [
        "data.head()"
      ],
      "execution_count": 4,
      "outputs": [
        {
          "output_type": "execute_result",
          "data": {
            "text/html": [
              "<div>\n",
              "<style scoped>\n",
              "    .dataframe tbody tr th:only-of-type {\n",
              "        vertical-align: middle;\n",
              "    }\n",
              "\n",
              "    .dataframe tbody tr th {\n",
              "        vertical-align: top;\n",
              "    }\n",
              "\n",
              "    .dataframe thead th {\n",
              "        text-align: right;\n",
              "    }\n",
              "</style>\n",
              "<table border=\"1\" class=\"dataframe\">\n",
              "  <thead>\n",
              "    <tr style=\"text-align: right;\">\n",
              "      <th></th>\n",
              "      <th>emotion (label)</th>\n",
              "      <th>pixels</th>\n",
              "      <th>Usage</th>\n",
              "    </tr>\n",
              "  </thead>\n",
              "  <tbody>\n",
              "    <tr>\n",
              "      <th>0</th>\n",
              "      <td>0</td>\n",
              "      <td>70 80 82 72 58 58 60 63 54 58 60 48 89 115 121...</td>\n",
              "      <td>Training</td>\n",
              "    </tr>\n",
              "    <tr>\n",
              "      <th>1</th>\n",
              "      <td>0</td>\n",
              "      <td>151 150 147 155 148 133 111 140 170 174 182 15...</td>\n",
              "      <td>Training</td>\n",
              "    </tr>\n",
              "    <tr>\n",
              "      <th>2</th>\n",
              "      <td>0</td>\n",
              "      <td>231 212 156 164 174 138 161 173 182 200 106 38...</td>\n",
              "      <td>Training</td>\n",
              "    </tr>\n",
              "    <tr>\n",
              "      <th>3</th>\n",
              "      <td>0</td>\n",
              "      <td>24 32 36 30 32 23 19 20 30 41 21 22 32 34 21 1...</td>\n",
              "      <td>Training</td>\n",
              "    </tr>\n",
              "    <tr>\n",
              "      <th>4</th>\n",
              "      <td>0</td>\n",
              "      <td>4 0 0 0 0 0 0 0 0 0 0 0 3 15 23 28 48 50 58 84...</td>\n",
              "      <td>Training</td>\n",
              "    </tr>\n",
              "  </tbody>\n",
              "</table>\n",
              "</div>"
            ],
            "text/plain": [
              "   emotion (label)                                             pixels     Usage\n",
              "0                0  70 80 82 72 58 58 60 63 54 58 60 48 89 115 121...  Training\n",
              "1                0  151 150 147 155 148 133 111 140 170 174 182 15...  Training\n",
              "2                0  231 212 156 164 174 138 161 173 182 200 106 38...  Training\n",
              "3                0  24 32 36 30 32 23 19 20 30 41 21 22 32 34 21 1...  Training\n",
              "4                0  4 0 0 0 0 0 0 0 0 0 0 0 3 15 23 28 48 50 58 84...  Training"
            ]
          },
          "metadata": {
            "tags": []
          },
          "execution_count": 4
        }
      ]
    },
    {
      "cell_type": "code",
      "metadata": {
        "id": "edvMI7vpkbWH",
        "colab_type": "code",
        "colab": {
          "base_uri": "https://localhost:8080/",
          "height": 34
        },
        "outputId": "c2e87137-77fd-4bd5-857f-0567d0a6aaba"
      },
      "source": [
        "data.shape"
      ],
      "execution_count": 5,
      "outputs": [
        {
          "output_type": "execute_result",
          "data": {
            "text/plain": [
              "(35887, 3)"
            ]
          },
          "metadata": {
            "tags": []
          },
          "execution_count": 5
        }
      ]
    },
    {
      "cell_type": "code",
      "metadata": {
        "id": "Y4KbpVLKkgDj",
        "colab_type": "code",
        "colab": {
          "base_uri": "https://localhost:8080/",
          "height": 34
        },
        "outputId": "646148f9-e4ae-4a35-e11d-affdee914cda"
      },
      "source": [
        "training_data = data[data['Usage'] == 'Training']\n",
        "training_data.shape"
      ],
      "execution_count": 6,
      "outputs": [
        {
          "output_type": "execute_result",
          "data": {
            "text/plain": [
              "(28709, 3)"
            ]
          },
          "metadata": {
            "tags": []
          },
          "execution_count": 6
        }
      ]
    },
    {
      "cell_type": "code",
      "metadata": {
        "id": "fkGAF9Kfkk3L",
        "colab_type": "code",
        "colab": {
          "base_uri": "https://localhost:8080/",
          "height": 34
        },
        "outputId": "f76b75bc-8985-4f70-f042-134147c1ef5e"
      },
      "source": [
        "testing_data = data[data['Usage'] != 'Training']\n",
        "testing_data.shape"
      ],
      "execution_count": 7,
      "outputs": [
        {
          "output_type": "execute_result",
          "data": {
            "text/plain": [
              "(7178, 3)"
            ]
          },
          "metadata": {
            "tags": []
          },
          "execution_count": 7
        }
      ]
    },
    {
      "cell_type": "code",
      "metadata": {
        "id": "CFahIa5Dknd8",
        "colab_type": "code",
        "colab": {
          "base_uri": "https://localhost:8080/",
          "height": 34
        },
        "outputId": "4cf52730-1f11-467a-fe7e-62db7e70c062"
      },
      "source": [
        "training_data = training_data.iloc[:,:-1]\n",
        "training_data.shape"
      ],
      "execution_count": 8,
      "outputs": [
        {
          "output_type": "execute_result",
          "data": {
            "text/plain": [
              "(28709, 2)"
            ]
          },
          "metadata": {
            "tags": []
          },
          "execution_count": 8
        }
      ]
    },
    {
      "cell_type": "code",
      "metadata": {
        "id": "Sk1iOUJcksZ_",
        "colab_type": "code",
        "colab": {
          "base_uri": "https://localhost:8080/",
          "height": 34
        },
        "outputId": "a6931a7f-3429-48e8-eafd-f32066e0ff73"
      },
      "source": [
        "testing_data = testing_data.iloc[:,:-1]\n",
        "testing_data.shape"
      ],
      "execution_count": 9,
      "outputs": [
        {
          "output_type": "execute_result",
          "data": {
            "text/plain": [
              "(7178, 2)"
            ]
          },
          "metadata": {
            "tags": []
          },
          "execution_count": 9
        }
      ]
    },
    {
      "cell_type": "code",
      "metadata": {
        "id": "gkMQ9__Ykwc3",
        "colab_type": "code",
        "colab": {}
      },
      "source": [
        "#data1 = np.array(data.iloc[:,1]).astype('uint8')\n",
        "#img_length = 48\n",
        "#data1 = data1.reshape(-1,3,img_length,img_length).transpose([0,2,3,1])\n",
        "def pixel_extraction(pixels):\n",
        "    tor = []\n",
        "    new_pixels = []\n",
        "    for i in pixels:\n",
        "        #new_pixel = []\n",
        "        tor =[]\n",
        "        i = i.split(' ')\n",
        "        #print(i)\n",
        "        #break\n",
        "        for j in i:\n",
        "            #(len(tor) == 3):\n",
        "            # new_pixel.append(tor)\n",
        "            # tor = []\n",
        "      #     j= int(j)\n",
        "            j= np.uint8(j)\n",
        "            tor.append(j)\n",
        "      # new_pixels.append(np.array(new_pixel))\n",
        "    \n",
        "        new_pixels.append(tor)\n",
        "    return(new_pixels)"
      ],
      "execution_count": 0,
      "outputs": []
    },
    {
      "cell_type": "code",
      "metadata": {
        "id": "PcD3LB5Dk3Aq",
        "colab_type": "code",
        "colab": {
          "base_uri": "https://localhost:8080/",
          "height": 34
        },
        "outputId": "9dff981a-f845-47f9-fbed-717ee7dc4f34"
      },
      "source": [
        "pixel_train = pixel_extraction(training_data.iloc[:,1])\n",
        "pixel_train = np.array(pixel_train)\n",
        "pixel_train.shape"
      ],
      "execution_count": 11,
      "outputs": [
        {
          "output_type": "execute_result",
          "data": {
            "text/plain": [
              "(28709, 2304)"
            ]
          },
          "metadata": {
            "tags": []
          },
          "execution_count": 11
        }
      ]
    },
    {
      "cell_type": "code",
      "metadata": {
        "id": "EFdm1lNlk71N",
        "colab_type": "code",
        "colab": {
          "base_uri": "https://localhost:8080/",
          "height": 34
        },
        "outputId": "25573938-4273-43e5-8b89-fb2663c14c1a"
      },
      "source": [
        "pixel_test = pixel_extraction(testing_data.iloc[:,1])\n",
        "pixel_test = np.array(pixel_test)\n",
        "pixel_test.shape"
      ],
      "execution_count": 12,
      "outputs": [
        {
          "output_type": "execute_result",
          "data": {
            "text/plain": [
              "(7178, 2304)"
            ]
          },
          "metadata": {
            "tags": []
          },
          "execution_count": 12
        }
      ]
    },
    {
      "cell_type": "code",
      "metadata": {
        "id": "bMK4tXv6lUyp",
        "colab_type": "code",
        "colab": {}
      },
      "source": [
        "def shape_conversion(new_pixels):\n",
        "    genuine = []\n",
        "    for i in new_pixels:\n",
        "        genuine.append(i.reshape(48,48))\n",
        "#new_pixels[0] = new_pixels[0].reshape(48,48)\n",
        "    genuine = np.array(genuine)\n",
        "    return(genuine)"
      ],
      "execution_count": 0,
      "outputs": []
    },
    {
      "cell_type": "code",
      "metadata": {
        "id": "bfsLOSXelaP_",
        "colab_type": "code",
        "colab": {
          "base_uri": "https://localhost:8080/",
          "height": 34
        },
        "outputId": "947a8167-2ac4-4a0d-82ae-495cef4e5c8c"
      },
      "source": [
        "pixel_train = shape_conversion(pixel_train)\n",
        "pixel_train.shape"
      ],
      "execution_count": 14,
      "outputs": [
        {
          "output_type": "execute_result",
          "data": {
            "text/plain": [
              "(28709, 48, 48)"
            ]
          },
          "metadata": {
            "tags": []
          },
          "execution_count": 14
        }
      ]
    },
    {
      "cell_type": "code",
      "metadata": {
        "id": "Y-MkdJtSldEV",
        "colab_type": "code",
        "colab": {
          "base_uri": "https://localhost:8080/",
          "height": 34
        },
        "outputId": "786f06f4-65d2-416c-8bce-4219d487555a"
      },
      "source": [
        "pixel_test = shape_conversion(pixel_test)\n",
        "pixel_test.shape"
      ],
      "execution_count": 15,
      "outputs": [
        {
          "output_type": "execute_result",
          "data": {
            "text/plain": [
              "(7178, 48, 48)"
            ]
          },
          "metadata": {
            "tags": []
          },
          "execution_count": 15
        }
      ]
    },
    {
      "cell_type": "code",
      "metadata": {
        "id": "dyHmiNZslhAx",
        "colab_type": "code",
        "colab": {
          "base_uri": "https://localhost:8080/",
          "height": 71
        },
        "outputId": "8871995e-e8c5-4856-a670-725c949a2748"
      },
      "source": [
        "ppc = 8\n",
        "hog_images_train = []\n",
        "hog_features_train = []\n",
        "for image in pixel_train:\n",
        "    fd,hog_image = hog(image, orientations=8, pixels_per_cell=(ppc,ppc),cells_per_block=(4, 4),block_norm= 'L2',visualise=True)\n",
        "    hog_images_train.append(hog_image)\n",
        "    hog_features_train.append(fd)"
      ],
      "execution_count": 19,
      "outputs": [
        {
          "output_type": "stream",
          "text": [
            "/usr/local/lib/python3.6/dist-packages/skimage/feature/_hog.py:239: skimage_deprecation: Argument `visualise` is deprecated and will be changed to `visualize` in v0.16\n",
            "  'be changed to `visualize` in v0.16', skimage_deprecation)\n"
          ],
          "name": "stderr"
        }
      ]
    },
    {
      "cell_type": "code",
      "metadata": {
        "id": "loh14MxDlkrm",
        "colab_type": "code",
        "colab": {
          "base_uri": "https://localhost:8080/",
          "height": 34
        },
        "outputId": "812e26dd-20ea-45d7-fffe-86104c936d77"
      },
      "source": [
        "print(len(hog_features_train[3]))"
      ],
      "execution_count": 20,
      "outputs": [
        {
          "output_type": "stream",
          "text": [
            "1152\n"
          ],
          "name": "stdout"
        }
      ]
    },
    {
      "cell_type": "code",
      "metadata": {
        "id": "WnzpDdrzn_u9",
        "colab_type": "code",
        "colab": {
          "base_uri": "https://localhost:8080/",
          "height": 71
        },
        "outputId": "42c72510-b144-4c5c-9225-4893650704db"
      },
      "source": [
        "ppc = 8\n",
        "hog_images_test= []\n",
        "hog_features_test = []\n",
        "for image in pixel_test:\n",
        "    fd1,hog_image1 = hog(image, orientations=8, pixels_per_cell=(ppc,ppc),cells_per_block=(4, 4),block_norm= 'L2',visualise=True)\n",
        "    hog_images_test.append(hog_image1)\n",
        "    hog_features_test.append(fd1)"
      ],
      "execution_count": 21,
      "outputs": [
        {
          "output_type": "stream",
          "text": [
            "/usr/local/lib/python3.6/dist-packages/skimage/feature/_hog.py:239: skimage_deprecation: Argument `visualise` is deprecated and will be changed to `visualize` in v0.16\n",
            "  'be changed to `visualize` in v0.16', skimage_deprecation)\n"
          ],
          "name": "stderr"
        }
      ]
    },
    {
      "cell_type": "code",
      "metadata": {
        "id": "H8ztURTzo8Rk",
        "colab_type": "code",
        "colab": {}
      },
      "source": [
        "train_labels =  np.array(training_data.iloc[:,0]).reshape(len(training_data.iloc[:,0]),1)\n",
        "test_labels =  np.array(testing_data.iloc[:,0]).reshape(len(testing_data.iloc[:,0]),1)"
      ],
      "execution_count": 0,
      "outputs": []
    },
    {
      "cell_type": "code",
      "metadata": {
        "id": "JBkl9TGRqBQZ",
        "colab_type": "code",
        "colab": {
          "base_uri": "https://localhost:8080/",
          "height": 34
        },
        "outputId": "55a98fb1-bea1-4ff7-8d82-7e0f41fc90ec"
      },
      "source": [
        "train_labels.shape"
      ],
      "execution_count": 28,
      "outputs": [
        {
          "output_type": "execute_result",
          "data": {
            "text/plain": [
              "(28709, 1)"
            ]
          },
          "metadata": {
            "tags": []
          },
          "execution_count": 28
        }
      ]
    },
    {
      "cell_type": "code",
      "metadata": {
        "id": "o4TE-WkUqDnh",
        "colab_type": "code",
        "colab": {
          "base_uri": "https://localhost:8080/",
          "height": 136
        },
        "outputId": "3bc19f67-3439-452a-c879-318a7d537d40"
      },
      "source": [
        "train_labels"
      ],
      "execution_count": 29,
      "outputs": [
        {
          "output_type": "execute_result",
          "data": {
            "text/plain": [
              "array([[0],\n",
              "       [0],\n",
              "       [0],\n",
              "       ...,\n",
              "       [0],\n",
              "       [0],\n",
              "       [0]])"
            ]
          },
          "metadata": {
            "tags": []
          },
          "execution_count": 29
        }
      ]
    },
    {
      "cell_type": "code",
      "metadata": {
        "id": "-1Ub75qyqJl2",
        "colab_type": "code",
        "colab": {}
      },
      "source": [
        "from sklearn import svm\n",
        "from sklearn.metrics import classification_report,accuracy_score\n",
        "clf = svm.SVC()\n",
        "hog_features_train = np.array(hog_features_train)\n",
        "data_frame_1 = np.hstack((hog_features_train,train_labels))\n",
        "np.random.shuffle(data_frame_1)"
      ],
      "execution_count": 0,
      "outputs": []
    },
    {
      "cell_type": "code",
      "metadata": {
        "id": "WXltilk9rgFH",
        "colab_type": "code",
        "colab": {}
      },
      "source": [
        "hog_features_test = np.array(hog_features_test)\n",
        "data_frame_2 = np.hstack((hog_features_test,test_labels))\n",
        "np.random.shuffle(data_frame_2)"
      ],
      "execution_count": 0,
      "outputs": []
    },
    {
      "cell_type": "code",
      "metadata": {
        "id": "y8SrB-8gsAVM",
        "colab_type": "code",
        "colab": {
          "base_uri": "https://localhost:8080/",
          "height": 34
        },
        "outputId": "999060b9-9d72-4516-b3e6-bbcbac432abe"
      },
      "source": [
        "data_frame_1[:,-1]"
      ],
      "execution_count": 38,
      "outputs": [
        {
          "output_type": "execute_result",
          "data": {
            "text/plain": [
              "array([0., 0., 0., ..., 0., 0., 1.])"
            ]
          },
          "metadata": {
            "tags": []
          },
          "execution_count": 38
        }
      ]
    },
    {
      "cell_type": "code",
      "metadata": {
        "id": "-C4tmUSpr21f",
        "colab_type": "code",
        "colab": {}
      },
      "source": [
        "x_train, x_test = data_frame_1[:,:-1],  data_frame_2[:,:-1]\n",
        "y_train, y_test = data_frame_1[:,-1:].ravel() , data_frame_2[:,-1:].ravel()\n"
      ],
      "execution_count": 0,
      "outputs": []
    },
    {
      "cell_type": "code",
      "metadata": {
        "id": "cUP_KRwrsskj",
        "colab_type": "code",
        "colab": {
          "base_uri": "https://localhost:8080/",
          "height": 139
        },
        "outputId": "586e03aa-84d9-4367-c5e1-8748b8652c66"
      },
      "source": [
        "clf.fit(x_train,y_train)"
      ],
      "execution_count": 40,
      "outputs": [
        {
          "output_type": "stream",
          "text": [
            "/usr/local/lib/python3.6/dist-packages/sklearn/svm/base.py:193: FutureWarning: The default value of gamma will change from 'auto' to 'scale' in version 0.22 to account better for unscaled features. Set gamma explicitly to 'auto' or 'scale' to avoid this warning.\n",
            "  \"avoid this warning.\", FutureWarning)\n"
          ],
          "name": "stderr"
        },
        {
          "output_type": "execute_result",
          "data": {
            "text/plain": [
              "SVC(C=1.0, cache_size=200, class_weight=None, coef0=0.0,\n",
              "    decision_function_shape='ovr', degree=3, gamma='auto_deprecated',\n",
              "    kernel='rbf', max_iter=-1, probability=False, random_state=None,\n",
              "    shrinking=True, tol=0.001, verbose=False)"
            ]
          },
          "metadata": {
            "tags": []
          },
          "execution_count": 40
        }
      ]
    },
    {
      "cell_type": "code",
      "metadata": {
        "id": "ATAjmXS7sxUL",
        "colab_type": "code",
        "colab": {}
      },
      "source": [
        "y_pred = clf.predict(x_test)"
      ],
      "execution_count": 0,
      "outputs": []
    },
    {
      "cell_type": "code",
      "metadata": {
        "id": "rp-7gY6Pwtbx",
        "colab_type": "code",
        "colab": {
          "base_uri": "https://localhost:8080/",
          "height": 275
        },
        "outputId": "48cf0718-f34a-4aae-b49c-edd4594cb16b"
      },
      "source": [
        "print(\"Accuracy: \",(accuracy_score(y_test, y_pred)))\n",
        "print('\\n')\n",
        "print(classification_report(y_test, y_pred))"
      ],
      "execution_count": 42,
      "outputs": [
        {
          "output_type": "stream",
          "text": [
            "Accuracy:  0.7528559487322374\n",
            "\n",
            "\n",
            "              precision    recall  f1-score   support\n",
            "\n",
            "         0.0       0.75      1.00      0.86      5404\n",
            "         1.0       0.00      0.00      0.00      1774\n",
            "\n",
            "    accuracy                           0.75      7178\n",
            "   macro avg       0.38      0.50      0.43      7178\n",
            "weighted avg       0.57      0.75      0.65      7178\n",
            "\n"
          ],
          "name": "stdout"
        },
        {
          "output_type": "stream",
          "text": [
            "/usr/local/lib/python3.6/dist-packages/sklearn/metrics/classification.py:1437: UndefinedMetricWarning: Precision and F-score are ill-defined and being set to 0.0 in labels with no predicted samples.\n",
            "  'precision', 'predicted', average, warn_for)\n"
          ],
          "name": "stderr"
        }
      ]
    },
    {
      "cell_type": "code",
      "metadata": {
        "id": "rxAFTxO1x0EK",
        "colab_type": "code",
        "colab": {}
      },
      "source": [
        "import csv\n",
        "#with open('Train_HOG_features.csv','w') as f:\n",
        " # f.csv.write(data_frame_1)\n",
        "pd.DataFrame(data_frame_1).to_csv(\"Train_HOG_features.csv\")\n",
        " "
      ],
      "execution_count": 0,
      "outputs": []
    },
    {
      "cell_type": "code",
      "metadata": {
        "id": "kXblICfgB7ys",
        "colab_type": "code",
        "colab": {}
      },
      "source": [
        "pd.DataFrame(data_frame_2).to_csv(\"Test_HOG_features.csv\")"
      ],
      "execution_count": 0,
      "outputs": []
    },
    {
      "cell_type": "code",
      "metadata": {
        "id": "icGKsZTCDsBv",
        "colab_type": "code",
        "colab": {}
      },
      "source": [
        "data_frame_3 = np.hstack((y_pred,[i for i in range(0,len(testing_data.iloc[:,0]))]))\n",
        "pd.DataFrame(data_frame_3).to_csv(\"Predictions.csv\")"
      ],
      "execution_count": 0,
      "outputs": []
    },
    {
      "cell_type": "code",
      "metadata": {
        "id": "C5plYAsiNrvE",
        "colab_type": "code",
        "colab": {}
      },
      "source": [
        ""
      ],
      "execution_count": 0,
      "outputs": []
    }
  ]
}